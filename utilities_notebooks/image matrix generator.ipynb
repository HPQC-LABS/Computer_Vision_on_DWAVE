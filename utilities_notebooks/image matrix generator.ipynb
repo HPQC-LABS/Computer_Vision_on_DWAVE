{
 "cells": [
  {
   "cell_type": "code",
   "execution_count": 1,
   "metadata": {
    "collapsed": true
   },
   "outputs": [],
   "source": [
    "import numpy as np\n",
    "import random"
   ]
  },
  {
   "cell_type": "code",
   "execution_count": 2,
   "metadata": {
    "collapsed": true
   },
   "outputs": [],
   "source": [
    "#PRINT IMAGE\n",
    "def print_image(I):\n",
    "    for i in range(n):\n",
    "        for j in range(n):\n",
    "            print(int(I[i][j]), end=' ')\n",
    "        print(\"\")"
   ]
  },
  {
   "cell_type": "code",
   "execution_count": 8,
   "metadata": {},
   "outputs": [
    {
     "name": "stdout",
     "output_type": "stream",
     "text": [
      "201 180 195 \n",
      "183 209 210 \n",
      "173 171 162 \n"
     ]
    }
   ],
   "source": [
    "#METHOD 1 -- original image\n",
    "mu, sigma = 180, 20\n",
    "n = 3\n",
    "I = [[int(np.random.normal(mu, sigma)) for j in range(n)] for i in range(n)]\n",
    "print_image(I)"
   ]
  },
  {
   "cell_type": "code",
   "execution_count": 4,
   "metadata": {},
   "outputs": [
    {
     "name": "stdout",
     "output_type": "stream",
     "text": [
      "\n",
      "original image\n",
      "\n",
      "255 255 255 255 255 255 255 255 255 255 \n",
      "250 250 250 250 250 250 250 250 250 250 \n",
      "245 245 245 245 245 245 245 245 245 245 \n",
      "240 240 240 240 240 240 240 240 240 240 \n",
      "235 235 235 235 235 235 235 235 235 235 \n",
      "230 230 230 230 230 230 230 230 230 230 \n",
      "225 225 225 225 225 225 225 225 225 225 \n",
      "220 220 220 220 220 220 220 220 220 220 \n",
      "215 215 215 215 215 215 215 215 215 215 \n",
      "210 210 210 210 210 210 210 210 210 210 \n"
     ]
    }
   ],
   "source": [
    "#METHOD 2 -- original image\n",
    "n = 10\n",
    "print(\"\\noriginal image\\n\")\n",
    "I = [[int(255-i*5) for j in range(n)] for i in range(n)]\n",
    "print_image(I)"
   ]
  },
  {
   "cell_type": "code",
   "execution_count": 5,
   "metadata": {},
   "outputs": [
    {
     "name": "stdout",
     "output_type": "stream",
     "text": [
      "255 255 255 255 255 255 255 255 255 255 \n",
      "255 247 247 247 247 247 247 247 247 247 \n",
      "255 247 239 239 239 239 239 239 239 247 \n",
      "255 247 239 231 231 231 231 231 239 247 \n",
      "255 247 239 231 223 223 223 231 239 247 \n",
      "255 247 239 231 223 215 223 231 239 247 \n",
      "255 247 239 231 223 223 223 231 239 247 \n",
      "255 247 239 231 231 231 231 231 239 247 \n",
      "255 247 239 239 239 239 239 239 239 247 \n",
      "255 247 247 247 247 247 247 247 247 247 \n"
     ]
    }
   ],
   "source": [
    "#METHOD 3 -- original image\n",
    "n = 10\n",
    "I = [[int(255-min(i, j, n-i, n-j)*8) for j in range(n)] for i in range(n)]\n",
    "print_image(I)"
   ]
  },
  {
   "cell_type": "code",
   "execution_count": null,
   "metadata": {},
   "outputs": [],
   "source": []
  },
  {
   "cell_type": "code",
   "execution_count": 24,
   "metadata": {
    "collapsed": true
   },
   "outputs": [],
   "source": [
    "#gaussian noise image\n",
    "mu, sigma = 180, 20\n",
    "n = 19\n",
    "\n",
    "for i in range(n):\n",
    "        for j in range(n):\n",
    "                I[i][j] = I[i][j]+np.random.normal(mu, sigma)\n"
   ]
  },
  {
   "cell_type": "code",
   "execution_count": 6,
   "metadata": {},
   "outputs": [],
   "source": [
    "#salt and pepper noise\n",
    "prob = 0.05\n",
    "thres = 1 - prob\n",
    "for i in range(n):\n",
    "        for j in range(n):\n",
    "            rdn = random.random() #produce number between 0 and 1\n",
    "            if rdn < prob:\n",
    "                I[i][j] = 200\n",
    "            elif rdn > thres:\n",
    "                I[i][j] = 200\n"
   ]
  },
  {
   "cell_type": "code",
   "execution_count": 9,
   "metadata": {},
   "outputs": [
    {
     "name": "stdout",
     "output_type": "stream",
     "text": [
      "min_val : 162\n",
      "mu : 46.5\n",
      "sigma : 23.25\n",
      "\n",
      "Noisy image\n",
      "\n",
      "242 230 255 \n",
      "234 252 239 \n",
      "238 204 241 \n"
     ]
    }
   ],
   "source": [
    "#noise suggested by Nike\n",
    "min_val = min(min(I))\n",
    "print(\"min_val : \"+ str(min_val))\n",
    "\n",
    "mu, sigma = (255-min_val)/2, (255-min_val)/4\n",
    "n = len(I)\n",
    "\n",
    "print(\"mu : \"+str(mu))\n",
    "print(\"sigma : \"+str(sigma))\n",
    "print(\"\\nNoisy image\\n\")\n",
    "for i in range(n):\n",
    "        for j in range(n):\n",
    "                I[i][j] = min(255, I[i][j]+np.random.normal(mu, sigma))\n",
    "print_image(I)"
   ]
  },
  {
   "cell_type": "code",
   "execution_count": 29,
   "metadata": {},
   "outputs": [
    {
     "name": "stdout",
     "output_type": "stream",
     "text": [
      "10\n"
     ]
    }
   ],
   "source": [
    "print(len(I))"
   ]
  },
  {
   "cell_type": "code",
   "execution_count": null,
   "metadata": {
    "collapsed": true
   },
   "outputs": [],
   "source": []
  },
  {
   "cell_type": "code",
   "execution_count": 9,
   "metadata": {},
   "outputs": [
    {
     "name": "stdout",
     "output_type": "stream",
     "text": [
      "\n",
      "original image\n",
      "\n",
      "255 255 255 255 255 255 255 255 255 255 \n",
      "247 247 247 247 247 247 247 247 247 247 \n",
      "239 239 239 239 239 239 239 239 239 239 \n",
      "231 231 231 231 231 231 231 231 231 231 \n",
      "223 223 223 223 223 223 223 223 223 223 \n",
      "215 215 215 215 215 215 215 215 215 215 \n",
      "207 207 207 207 207 207 207 207 207 207 \n",
      "199 199 199 199 199 199 199 199 199 199 \n",
      "191 191 191 191 191 191 191 191 191 191 \n",
      "183 183 183 183 183 183 183 183 183 183 \n",
      "min_val : 183\n",
      "\n",
      "Noisy image\n",
      "\n",
      "255 255 255 200 255 255 255 255 255 255 \n",
      "247 247 247 200 247 247 247 200 247 200 \n",
      "239 239 239 239 239 239 239 239 239 239 \n",
      "231 231 231 231 231 231 230 231 230 231 \n",
      "223 223 230 223 223 223 223 223 200 223 \n",
      "215 230 200 200 215 215 215 215 215 215 \n",
      "207 207 207 230 207 207 207 207 230 207 \n",
      "199 199 199 199 199 199 199 199 199 199 \n",
      "191 191 191 191 191 191 191 191 191 191 \n",
      "183 183 183 183 183 183 183 183 183 183 \n"
     ]
    }
   ],
   "source": [
    "#METHOD 2 -- original image\n",
    "n = 10\n",
    "\n",
    "print(\"\\noriginal image\\n\")\n",
    "I = [[int(255-i*8) for j in range(n)] for i in range(n)]\n",
    "print_image(I)\n",
    "\n",
    "#noise suggested by Nike\n",
    "min_val = min(min(I))\n",
    "print(\"min_val : \"+ str(min_val))\n",
    "\n",
    "print(\"\\nNoisy image\\n\")\n",
    "prob = 0.05\n",
    "thres = 1 - prob\n",
    "for i in range(n):\n",
    "        for j in range(n):\n",
    "            rdn = random.random() #produce number between 0 and 1\n",
    "            if rdn < prob:\n",
    "                I[i][j] = 230\n",
    "            elif rdn > thres:\n",
    "                I[i][j] = 200\n",
    "print_image(I)\n"
   ]
  },
  {
   "cell_type": "code",
   "execution_count": 103,
   "metadata": {},
   "outputs": [],
   "source": [
    "#I"
   ]
  },
  {
   "cell_type": "code",
   "execution_count": 19,
   "metadata": {},
   "outputs": [],
   "source": []
  },
  {
   "cell_type": "code",
   "execution_count": 33,
   "metadata": {
    "collapsed": true
   },
   "outputs": [],
   "source": []
  },
  {
   "cell_type": "code",
   "execution_count": 64,
   "metadata": {},
   "outputs": [
    {
     "name": "stdout",
     "output_type": "stream",
     "text": [
      "Help on built-in function random:\n",
      "\n",
      "random(...) method of random.Random instance\n",
      "    random() -> x in the interval [0, 1).\n",
      "\n"
     ]
    }
   ],
   "source": [
    "help(random.random)"
   ]
  },
  {
   "cell_type": "code",
   "execution_count": null,
   "metadata": {
    "collapsed": true
   },
   "outputs": [],
   "source": []
  }
 ],
 "metadata": {
  "anaconda-cloud": {},
  "kernelspec": {
   "display_name": "Python 3",
   "language": "python",
   "name": "python3"
  },
  "language_info": {
   "codemirror_mode": {
    "name": "ipython",
    "version": 3
   },
   "file_extension": ".py",
   "mimetype": "text/x-python",
   "name": "python",
   "nbconvert_exporter": "python",
   "pygments_lexer": "ipython3",
   "version": "3.7.4"
  }
 },
 "nbformat": 4,
 "nbformat_minor": 2
}
